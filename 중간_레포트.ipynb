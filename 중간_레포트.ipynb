{
  "nbformat": 4,
  "nbformat_minor": 0,
  "metadata": {
    "colab": {
      "name": "중간 레포트.ipynb",
      "provenance": [],
      "collapsed_sections": [],
      "toc_visible": true,
      "include_colab_link": true
    },
    "kernelspec": {
      "name": "python3",
      "display_name": "Python 3"
    }
  },
  "cells": [
    {
      "cell_type": "markdown",
      "metadata": {
        "id": "view-in-github",
        "colab_type": "text"
      },
      "source": [
        "<a href=\"https://colab.research.google.com/github/JeehwanLim/202103_information-retrieval/blob/main/%EC%A4%91%EA%B0%84_%EB%A0%88%ED%8F%AC%ED%8A%B8.ipynb\" target=\"_parent\"><img src=\"https://colab.research.google.com/assets/colab-badge.svg\" alt=\"Open In Colab\"/></a>"
      ]
    },
    {
      "cell_type": "markdown",
      "metadata": {
        "id": "b_ZBVZEYdR0X"
      },
      "source": [
        "# **환경 설정**"
      ]
    },
    {
      "cell_type": "markdown",
      "metadata": {
        "id": "ovjB18Dqaamn"
      },
      "source": [
        "### **구글 드라이브 연계**"
      ]
    },
    {
      "cell_type": "code",
      "metadata": {
        "id": "lZGi15R3ZBNE"
      },
      "source": [
        "### Google Drive 패키지와 os 모듈 불러오기\n",
        "from google.colab import drive\n",
        "import os"
      ],
      "execution_count": 1,
      "outputs": []
    },
    {
      "cell_type": "code",
      "metadata": {
        "colab": {
          "base_uri": "https://localhost:8080/"
        },
        "id": "1QESTJMWZJgs",
        "outputId": "335aef99-d4a8-4dba-f671-07a7c6819691"
      },
      "source": [
        "### 본인 구글 드라이브의 최초 경로를 설정하기\n",
        "\n",
        "# 대부분의 구글 드라이브 최초 경로는 아래와 같습니다. \n",
        "# 예외 발생 시 본인의 구글 드라이브에 접속하여 content 폴더나 gdrive 폴더가 어떤 위치에 있으며, \n",
        "# 자신이 연결하려는 폴더까지의 경로가 어떻게 되는지 확인해야 합니다.  \n",
        "drive.mount('/content/gdrive/')"
      ],
      "execution_count": 2,
      "outputs": [
        {
          "output_type": "stream",
          "text": [
            "Mounted at /content/gdrive/\n"
          ],
          "name": "stdout"
        }
      ]
    },
    {
      "cell_type": "code",
      "metadata": {
        "colab": {
          "base_uri": "https://localhost:8080/",
          "height": 36
        },
        "id": "BGTF2zT6ZMp6",
        "outputId": "6054a4cb-9d8c-4148-beb7-6c88911688b6"
      },
      "source": [
        "### 자신의 현재 경로를 파악하기\n",
        "\n",
        "os.getcwd() ## 아마도 /content로 나올 것."
      ],
      "execution_count": 3,
      "outputs": [
        {
          "output_type": "execute_result",
          "data": {
            "application/vnd.google.colaboratory.intrinsic+json": {
              "type": "string"
            },
            "text/plain": [
              "'/content'"
            ]
          },
          "metadata": {
            "tags": []
          },
          "execution_count": 3
        }
      ]
    },
    {
      "cell_type": "markdown",
      "metadata": {
        "id": "pwRCwpRm1ije"
      },
      "source": [
        "### **엘라스틱 서버 설치 및 구동하기**"
      ]
    },
    {
      "cell_type": "code",
      "metadata": {
        "id": "u_DmUR_krAJN"
      },
      "source": [
        "### 구글 클라우드 컴퓨터에 elastic server 서버 설치를 위한 폴더 생성 \n",
        "!sudo mkdir /content/elasticsearch\n",
        "### 접근 권한 수정\n",
        "!chmod 755 -R elasticsearch\n",
        "### 현재 작업 디렉토리 설정\n",
        "os.chdir('/content/elasticsearch')"
      ],
      "execution_count": 4,
      "outputs": []
    },
    {
      "cell_type": "code",
      "metadata": {
        "id": "9CcNnHCosV4Y"
      },
      "source": [
        "### 리눅스용 엘라스틱서치 서버 설치를 위한 패키지 다운로드\n",
        "!wget https://artifacts.elastic.co/downloads/elasticsearch/elasticsearch-7.0.0-linux-x86_64.tar.gz -q"
      ],
      "execution_count": 5,
      "outputs": []
    },
    {
      "cell_type": "code",
      "metadata": {
        "id": "s4UVAmFWsd_Z"
      },
      "source": [
        "### 위에서 다운로드 받은 압축 파일을 해제\n",
        "!tar -xzf elasticsearch-7.0.0-linux-x86_64.tar.gz"
      ],
      "execution_count": 6,
      "outputs": []
    },
    {
      "cell_type": "code",
      "metadata": {
        "id": "vfUtZwAHskoH"
      },
      "source": [
        "### 코랩 노트북 환경에서 서버 구동을 위해서 PPID 1의 백그라운드 데몬 프로세스가 해당 폴더에 접근이 가능하도록 소유자 변경\n",
        "!chown -R daemon:daemon elasticsearch-7.0.0"
      ],
      "execution_count": 7,
      "outputs": []
    },
    {
      "cell_type": "code",
      "metadata": {
        "colab": {
          "base_uri": "https://localhost:8080/"
        },
        "id": "ECA5oXE1v85k",
        "outputId": "1481e77f-2e97-4e99-cc7e-6d052fb4c91c"
      },
      "source": [
        "### 한글 nori 형태소 분석기 설치 \n",
        "!sudo elasticsearch-7.0.0/bin/elasticsearch-plugin install analysis-nori"
      ],
      "execution_count": 8,
      "outputs": [
        {
          "output_type": "stream",
          "text": [
            "-> Downloading analysis-nori from elastic\n",
            "[=================================================] 100%   \n",
            "WARNING: An illegal reflective access operation has occurred\n",
            "WARNING: Illegal reflective access by org.bouncycastle.jcajce.provider.drbg.DRBG (file:/content/elasticsearch/elasticsearch-7.0.0/lib/tools/plugin-cli/bcprov-jdk15on-1.61.jar) to constructor sun.security.provider.Sun()\n",
            "WARNING: Please consider reporting this to the maintainers of org.bouncycastle.jcajce.provider.drbg.DRBG\n",
            "WARNING: Use --illegal-access=warn to enable warnings of further illegal reflective access operations\n",
            "WARNING: All illegal access operations will be denied in a future release\n",
            "-> Installed analysis-nori\n"
          ],
          "name": "stdout"
        }
      ]
    },
    {
      "cell_type": "code",
      "metadata": {
        "colab": {
          "base_uri": "https://localhost:8080/"
        },
        "id": "4Jjugup6tEF6",
        "outputId": "3ece9291-46cf-4d2a-81fb-aa17f8b46739"
      },
      "source": [
        "### 파이썬 환경에서 구동을 위한 elasticsearch 패키지 설치\n",
        "!pip install elasticsearch"
      ],
      "execution_count": 10,
      "outputs": [
        {
          "output_type": "stream",
          "text": [
            "Collecting elasticsearch\n",
            "\u001b[?25l  Downloading https://files.pythonhosted.org/packages/8f/5c/60a32dfc24da07703b5b32d9935bcc36786a9176e67117c4b6215fd6d914/elasticsearch-7.12.1-py2.py3-none-any.whl (339kB)\n",
            "\r\u001b[K     |█                               | 10kB 11.7MB/s eta 0:00:01\r\u001b[K     |██                              | 20kB 5.0MB/s eta 0:00:01\r\u001b[K     |███                             | 30kB 4.2MB/s eta 0:00:01\r\u001b[K     |███▉                            | 40kB 5.3MB/s eta 0:00:01\r\u001b[K     |████▉                           | 51kB 6.2MB/s eta 0:00:01\r\u001b[K     |█████▉                          | 61kB 7.2MB/s eta 0:00:01\r\u001b[K     |██████▊                         | 71kB 6.1MB/s eta 0:00:01\r\u001b[K     |███████▊                        | 81kB 6.7MB/s eta 0:00:01\r\u001b[K     |████████▊                       | 92kB 5.2MB/s eta 0:00:01\r\u001b[K     |█████████▋                      | 102kB 5.6MB/s eta 0:00:01\r\u001b[K     |██████████▋                     | 112kB 5.6MB/s eta 0:00:01\r\u001b[K     |███████████▋                    | 122kB 5.6MB/s eta 0:00:01\r\u001b[K     |████████████▌                   | 133kB 5.6MB/s eta 0:00:01\r\u001b[K     |█████████████▌                  | 143kB 5.6MB/s eta 0:00:01\r\u001b[K     |██████████████▌                 | 153kB 5.6MB/s eta 0:00:01\r\u001b[K     |███████████████▍                | 163kB 5.6MB/s eta 0:00:01\r\u001b[K     |████████████████▍               | 174kB 5.6MB/s eta 0:00:01\r\u001b[K     |█████████████████▍              | 184kB 5.6MB/s eta 0:00:01\r\u001b[K     |██████████████████▎             | 194kB 5.6MB/s eta 0:00:01\r\u001b[K     |███████████████████▎            | 204kB 5.6MB/s eta 0:00:01\r\u001b[K     |████████████████████▎           | 215kB 5.6MB/s eta 0:00:01\r\u001b[K     |█████████████████████▏          | 225kB 5.6MB/s eta 0:00:01\r\u001b[K     |██████████████████████▏         | 235kB 5.6MB/s eta 0:00:01\r\u001b[K     |███████████████████████▏        | 245kB 5.6MB/s eta 0:00:01\r\u001b[K     |████████████████████████        | 256kB 5.6MB/s eta 0:00:01\r\u001b[K     |█████████████████████████       | 266kB 5.6MB/s eta 0:00:01\r\u001b[K     |██████████████████████████      | 276kB 5.6MB/s eta 0:00:01\r\u001b[K     |███████████████████████████     | 286kB 5.6MB/s eta 0:00:01\r\u001b[K     |████████████████████████████    | 296kB 5.6MB/s eta 0:00:01\r\u001b[K     |█████████████████████████████   | 307kB 5.6MB/s eta 0:00:01\r\u001b[K     |██████████████████████████████  | 317kB 5.6MB/s eta 0:00:01\r\u001b[K     |██████████████████████████████▉ | 327kB 5.6MB/s eta 0:00:01\r\u001b[K     |███████████████████████████████▉| 337kB 5.6MB/s eta 0:00:01\r\u001b[K     |████████████████████████████████| 348kB 5.6MB/s \n",
            "\u001b[?25hRequirement already satisfied: certifi in /usr/local/lib/python3.7/dist-packages (from elasticsearch) (2020.12.5)\n",
            "Requirement already satisfied: urllib3<2,>=1.21.1 in /usr/local/lib/python3.7/dist-packages (from elasticsearch) (1.24.3)\n",
            "Installing collected packages: elasticsearch\n",
            "Successfully installed elasticsearch-7.12.1\n"
          ],
          "name": "stdout"
        }
      ]
    },
    {
      "cell_type": "code",
      "metadata": {
        "id": "QDzbifJStJmw"
      },
      "source": [
        "# 데몬 프로세스로 엘라스틱 서버 개시하기\n",
        "import os\n",
        "from subprocess import Popen, PIPE, STDOUT\n",
        "es = Popen(['elasticsearch-7.0.0/bin/elasticsearch'], \n",
        "                  stdout=PIPE, stderr=STDOUT,\n",
        "                  preexec_fn=lambda: os.setuid(1)  # as daemon\n",
        "                )"
      ],
      "execution_count": 9,
      "outputs": []
    },
    {
      "cell_type": "markdown",
      "metadata": {
        "id": "6zg-u5fntcFT"
      },
      "source": [
        "### **엘라스틱서치 서버 구동될때까지 대기 (약 3분 소요된다고 함)**\n",
        "\n",
        "서버가 안정적으로 열릴 때까지 시간이 조금 걸릴 수 있어요..\n",
        "\n",
        "`es.info()`를 실행시켰을 때\n",
        "\n",
        "아래와 같은 결과가 나오면 성공!\n",
        "\n",
        "```\n",
        "{'cluster_name': 'elasticsearch',\n",
        " 'cluster_uuid': 'EOh60gEwRri9A_UruHyQLA',\n",
        " 'name': '657b2f379e3e',\n",
        " 'tagline': 'You Know, for Search',\n",
        " 'version': {'build_date': '2019-04-05T22:55:32.697037Z',\n",
        "  'build_flavor': 'default',\n",
        "  'build_hash': 'b7e28a7',\n",
        "  'build_snapshot': False,\n",
        "  'build_type': 'tar',\n",
        "  'lucene_version': '8.0.0',\n",
        "  'minimum_index_compatibility_version': '6.0.0-beta1',\n",
        "  'minimum_wire_compatibility_version': '6.7.0',\n",
        "  'number': '7.0.0'}}\n",
        "```\n",
        "\n"
      ]
    },
    {
      "cell_type": "code",
      "metadata": {
        "colab": {
          "base_uri": "https://localhost:8080/"
        },
        "id": "5ZD2PfkXt9Xy",
        "outputId": "fc875aa1-72ad-460b-95af-7083a9425cf7"
      },
      "source": [
        "# 로컬 서버에 엘라스틱 서버와 python을 연결\n",
        "from elasticsearch import Elasticsearch, helpers\n",
        "es = Elasticsearch(\"localhost:9200/\")\n",
        "es.info()"
      ],
      "execution_count": 13,
      "outputs": [
        {
          "output_type": "execute_result",
          "data": {
            "text/plain": [
              "{'cluster_name': 'elasticsearch',\n",
              " 'cluster_uuid': 'lEaeDM2vQE6Fvvw7iYLDIA',\n",
              " 'name': 'd1c450b6e81d',\n",
              " 'tagline': 'You Know, for Search',\n",
              " 'version': {'build_date': '2019-04-05T22:55:32.697037Z',\n",
              "  'build_flavor': 'default',\n",
              "  'build_hash': 'b7e28a7',\n",
              "  'build_snapshot': False,\n",
              "  'build_type': 'tar',\n",
              "  'lucene_version': '8.0.0',\n",
              "  'minimum_index_compatibility_version': '6.0.0-beta1',\n",
              "  'minimum_wire_compatibility_version': '6.7.0',\n",
              "  'number': '7.0.0'}}"
            ]
          },
          "metadata": {
            "tags": []
          },
          "execution_count": 13
        }
      ]
    },
    {
      "cell_type": "markdown",
      "metadata": {
        "id": "sqTiE1R6vjh9"
      },
      "source": [
        "### **Elasticsearch Server 개시 및 Python과 연동**\n",
        "\n",
        "> /content/gdrive 이후의 경로에는 구글 드라이브 보안으로 인해서\n",
        "daemon process가 정상적인 방식으로는 서버 구동이 어렵기 때문에 본인 드라이브가 아닌\n",
        "구글 클라우드 컴퓨터에 엘라스틱 서버를 설치하고 개시했습니다. \n",
        "\n",
        "\n"
      ]
    },
    {
      "cell_type": "code",
      "metadata": {
        "id": "gsuXyBkVZPxA",
        "colab": {
          "base_uri": "https://localhost:8080/"
        },
        "outputId": "2237fee8-cc80-4e0b-cc32-75269f492cea"
      },
      "source": [
        "### 현재 작업 환경 재설정하기 (자신만의 작업 디렉토리를 기본 경로로 설정하는 것)\n",
        "\n",
        "#.ipynb 노트북 파일과 불러오려는 이미지 및 모듈에 해당하는 파일들은 같은 현재 작업 환경 \n",
        "#또는 그 하위 폴더에 존재하는 것이 좋습니다. \n",
        "\n",
        "# 자신만의 기본 경로를 설정하는데, 대부분의 경우에는 Colab Notebooks까지 동일하게 공유하며,\n",
        "# 이후 경로는 자신이 생성한 폴더에 맞추어서 경로를 설정하면 됩니다.\n",
        "# 수업에서는 자신의 구글 드라이브에 information_retrieval 폴더를 생성하시면 됩니다. \n",
        "os.chdir('/content/gdrive/My Drive/Colab Notebooks/information_retrieval/')\n",
        "!sudo mkdir elastic\n",
        "os.chdir('/content/gdrive/My Drive/Colab Notebooks/information_retrieval/elastic')"
      ],
      "execution_count": 14,
      "outputs": [
        {
          "output_type": "stream",
          "text": [
            "mkdir: cannot create directory ‘elastic’: File exists\n"
          ],
          "name": "stdout"
        }
      ]
    },
    {
      "cell_type": "markdown",
      "metadata": {
        "id": "gBhGPqD5dgEL"
      },
      "source": [
        "# **한국어 위키 검색**"
      ]
    },
    {
      "cell_type": "markdown",
      "metadata": {
        "id": "NVT31VFMFxFF"
      },
      "source": [
        "### **문서 데이터 다운로드**\n",
        "\n",
        "> 한국어 위키 덤프를 다운로드 받은 다음에 전처리하여 사용해보기\n",
        "\n",
        "> abstract.xml.gz - 문서 요약 덤프 사용\n",
        "\n",
        "https://ko.wikipedia.org/wiki/%EC%9C%84%ED%82%A4%EB%B0%B1%EA%B3%BC:%EB%8D%B0%EC%9D%B4%ED%84%B0%EB%B2%A0%EC%9D%B4%EC%8A%A4_%EB%8B%A4%EC%9A%B4%EB%A1%9C%EB%93%9C"
      ]
    },
    {
      "cell_type": "code",
      "metadata": {
        "colab": {
          "base_uri": "https://localhost:8080/"
        },
        "id": "5aDqvMLNg7jC",
        "outputId": "f6b26dbe-d7de-430f-e6f4-30a72ce41ed9"
      },
      "source": [
        "# 샘플 영어 위키 덤프를 다운로드\n",
        "!wget https://dumps.wikimedia.org/kowiki/latest/kowiki-latest-abstract.xml.gz"
      ],
      "execution_count": 15,
      "outputs": [
        {
          "output_type": "stream",
          "text": [
            "--2021-05-01 06:44:14--  https://dumps.wikimedia.org/kowiki/latest/kowiki-latest-abstract.xml.gz\n",
            "Resolving dumps.wikimedia.org (dumps.wikimedia.org)... 208.80.154.7, 2620:0:861:1:208:80:154:7\n",
            "Connecting to dumps.wikimedia.org (dumps.wikimedia.org)|208.80.154.7|:443... connected.\n",
            "HTTP request sent, awaiting response... 200 OK\n",
            "Length: 78294023 (75M) [application/octet-stream]\n",
            "Saving to: ‘kowiki-latest-abstract.xml.gz.5’\n",
            "\n",
            "kowiki-latest-abstr 100%[===================>]  74.67M  4.71MB/s    in 15s     \n",
            "\n",
            "2021-05-01 06:44:30 (4.86 MB/s) - ‘kowiki-latest-abstract.xml.gz.5’ saved [78294023/78294023]\n",
            "\n"
          ],
          "name": "stdout"
        }
      ]
    },
    {
      "cell_type": "code",
      "metadata": {
        "id": "ZSS_D5CL_A9P"
      },
      "source": [
        "import gzip\n",
        "import xml.etree.ElementTree as ET\n",
        "\n",
        "input = gzip.open('kowiki-latest-abstract.xml.gz', 'r')\n",
        "tree = ET.parse(input)\n",
        "root = tree.getroot()"
      ],
      "execution_count": 16,
      "outputs": []
    },
    {
      "cell_type": "code",
      "metadata": {
        "colab": {
          "base_uri": "https://localhost:8080/"
        },
        "id": "VA-_cS47AM7o",
        "outputId": "bc5dc60a-33e7-4a47-cfb9-463d9eac086f"
      },
      "source": [
        "# root 이하 모든 자식의 태그명을 프린트한다.\n",
        "for child in root.find('doc'):\n",
        "  print(child.tag)"
      ],
      "execution_count": 17,
      "outputs": [
        {
          "output_type": "stream",
          "text": [
            "title\n",
            "url\n",
            "abstract\n",
            "links\n"
          ],
          "name": "stdout"
        }
      ]
    },
    {
      "cell_type": "code",
      "metadata": {
        "colab": {
          "base_uri": "https://localhost:8080/"
        },
        "id": "eraLtjDYJMzJ",
        "outputId": "74c5f1e6-17c8-45d6-a157-7c7d9264419e"
      },
      "source": [
        "# 데이터 조회 \n",
        "index = 0\n",
        "\n",
        "for doc in root.iter(\"doc\"):\n",
        "    if index == 20:\n",
        "        break\n",
        "    print(doc.find('title').text)\n",
        "    print(doc.find('abstract').text)\n",
        "\n",
        "    index = index + 1"
      ],
      "execution_count": 18,
      "outputs": [
        {
          "output_type": "stream",
          "text": [
            "위키백과: 지미 카터\n",
            "| 그림 = JimmyCarterPortrait2.jpg\n",
            "위키백과: 수학\n",
            "수학(數學, )은 수, 양, 구조, 공간, 변화 등의 개념을 다루는 학문이다. 널리 받아들여지는 명확한 정의는 없으나 현대 수학은 일반적으로 엄밀한 논리에 근거하여 추상적 대상을 탐구하며, 이는 규칙의 발견과 문제의 제시 및 해결의 과정으로 이루어진다.Devlin, Keith, Mathematics: The Science of Patterns: The Search for Order in Life, Mind and the Universe (Scientific American Paperback Library) 1996,  수학은 그 발전 과정에 있어서 철학, 과학과 깊은 연관을 맺고 있으며, 다만 엄밀한 논리와 특유의 추상성, 보편성에 의해 다른 학문들과 구별된다. 특히 수학은 과학의 여느 분야들과는 달리 자연계에서 관측되지 않는 개념들에 대해서까지 이론을 추상화시키는 특징을 보이는데, 수학자들은 그러한 개념들에 대한 추측을 제시하고 적절하게 선택된 정의와 공리로부터 엄밀한 연역을 거쳐 그 진위를 파�\n",
            "위키백과: 수학 상수\n",
            "수학에서 상수란 그 값이 변하지 않는 불변량으로, 변수의 반대말이다. 물리 상수와는 달리, 수학 상수는 물리적 측정과는 상관없이 정의된다.\n",
            "위키백과: 문학\n",
            "문학(文學, )은 언어를 예술적 표현의 제재로 삼아 새로운 의미를 창출하여, 인간과 사회를 진실되게 묘사하는 예술의 하위분야이다.조남현, 고등학교 문학(상), 중앙교육진흥연구소, 2003, 12~15쪽.\n",
            "위키백과: 나라 목록\n",
            "이 문서는 나라 목록이며, 전 세계 207개 나라의 각 현황과 주권 승인 정보를 개요 형태로 나열하고 있다.\n",
            "위키백과: 화학\n",
            "화학(化學, )은 물질의 성질, 조성, 구조, 변화 및 그에 수반하는 에너지의 변화를 연구하는 자연과학의 한 분야이다. 물리학도 역시 물질을 다루는 학문이지만, 물리학이 원소와 화합물을 모두 포함한 물체의 운동과 에너지, 열적·전기적·광학적·기계적 속성을 다루고 이러한 현상으로부터 통일된 이론을 구축하려는 것과는 달리 화학에서는 물질 자체를 연구 대상으로 한다.\n",
            "위키백과: 체첸 공화국\n",
            "체첸 공화국(, , ), 또는 줄여서 체첸(, , )은 러시아의 공화국이다.\n",
            "위키백과: 맥스웰 방정식\n",
            "맥스웰 방정식(-方程式, s)은 전기와 자기의 발생, 전기장과 자기장, 전하 밀도와 전류 밀도의 형성을 나타내는 4개의 편미분 방정식이다. 맥스웰 방정식은 빛 역시 전자기파의 하나임을 보여준다.\n",
            "위키백과: 음계\n",
            "음계(音階)는 음악에서 음높이(pitch) 순서로 된 음의 집합을 말한다. 악곡을 주로 구성하는 음을 나타낸 것이며 음계의 종류에 따라 곡의 분위기가 달라진다.\n",
            "위키백과: 대한민국 제16대 대통령 선거\n",
            "9.9pp）\n",
            "위키백과: 함석헌\n",
            "|출생지= 대한제국 평안북도 용천군\n",
            "위키백과: 백남준\n",
            "| 출생지 = 일제 강점기 경기도 경성부 서린정\n",
            "위키백과: 2002년\n",
            "2002년은 화요일로 시작하는 평년이며, 이 해는 21세기의 첫 대규모 행사의 해이다.\n",
            "위키백과: 12월 19일\n",
            "12월 19일은 그레고리력으로 353번째(윤년일 경우 354번째) 날에 해당한다.\n",
            "위키백과: 5월 31일\n",
            "5월 31일은 그레고리력으로 151번째(윤년일 경우 152번째) 날에 해당한다.\n",
            "위키백과: 6월 30일\n",
            "6월 30일은 그레고리력으로 181번째(윤년일 경우 182번째) 날에 해당하며, 6월의 마지막 날이다.\n",
            "위키백과: 우크라이나\n",
            "우크라이나(, )는 동유럽의 국가이다. 남쪽과 남동쪽으로는 흑해와 아조프 해, 동쪽과 북동쪽으로는 러시아, 북쪽과 북서쪽으로는 벨라루스, 서쪽으로는 폴란드, 슬로바키아, 헝가리, 남서쪽으로는 루마니아, 몰도바와 접한다. 키예프가 수도이며 가장 큰 도시이다. 동유럽 평원과 이어져 있으며 기후는 비교적 온화한 편이다. 법적 공용어는 우크라이나어이지만 실질적으로는 많은 사람들이 러시아어를 일상적으로 사용하며 인구의 절반(주로 동부 지역과 동남부 지역, 오데사 지역)이 러시아어 사용자이며 일반적으로 학교/회사나 인터넷 사이트에서는 두 언어 모두 사용하고 있다. 주요 도시로는 키예프, 도네츠크, 드니프로, 하르키우, 리비우, 오데사, 자포리자가 있다. 2014년 러시아가 크림반도를 합병함에 따라 행정력이 크림반도에 미치지 못하지만, 국제사회는 대체\n",
            "위키백과: 가위\n",
            "가위()는 손으로 잡아 종이 등을 쉽게 자를 수 있게 하는 도구이다. 두 장의 얇은 금속 날을 결리지 않도록 엇갈리게 나사로 엮어, 그 두 날이 지레의 원리로 움직이면서 서로 부딪치면 절단력이 발생한다. 플라스틱 판, 얇은 철판, 머리카락, 끈, 종이, 옷감, 강삭 등을 자를 때 쓰인다.\n",
            "위키백과: 위키\n",
            "위키(,  )는 불특정 다수가 협업을 통해 직접 내용과 구조를 수정할 수 있는 웹사이트를 일컫는다.\n",
            "위키백과: 지구과학\n",
            "지구과학(地球科學, )은 행성인 지구를 대상으로 연구하는 학문들을 묶어 부르는 이름이다. 지구의 환경은 크게 육지, 바다, 대기로 나누어지며, 이러한 환경들은 각각 지구과학의 주요분야라고 할 수 있는 지질과학, 수문과학, 대기과학 분야의 주요연구대상이 된다.\n"
          ],
          "name": "stdout"
        }
      ]
    },
    {
      "cell_type": "markdown",
      "metadata": {
        "id": "aKY3LbLFds2Q"
      },
      "source": [
        "### **인덱스 생성**\n",
        "> nori 한국어 형태소 분석기 사용 설정, 불용어 설정 등 인덱스 생성을 위한 설정\n",
        "\n",
        "> 인덱스 생성"
      ]
    },
    {
      "cell_type": "code",
      "metadata": {
        "id": "q4Tp3STHs60F"
      },
      "source": [
        "# Stop words 파일 생성 \n",
        "f = open('/content/elasticsearch/elasticsearch-7.0.0/config/stopFilter.txt', 'w')\n",
        "\n",
        "f.write(\"위키\\n\")\n",
        "f.write(\"백과\\n\")\n",
        "f.write(\"위키백과\")\n",
        "\n",
        "f.close()"
      ],
      "execution_count": 19,
      "outputs": []
    },
    {
      "cell_type": "code",
      "metadata": {
        "id": "NetA--AorMeG"
      },
      "source": [
        "index_settings = {\n",
        "    \n",
        "    \"settings\":{\n",
        "        \"number_of_shards\": 5,\n",
        "        \"number_of_replicas\": 1,\n",
        "        \"analysis\":{\n",
        "            \"tokenizer\":{\n",
        "                \"korean_nori_tokenizer\":{\n",
        "                    \"type\":\"nori_tokenizer\",\n",
        "                    \"decompound_mode\":\"mixed\"\n",
        "                    # \"user_dictionary\":\"user_dictionary.txt\"\n",
        "                }\n",
        "            },\n",
        "            \"analyzer\":{\n",
        "                \"nori_analyzer\":{\n",
        "                    \"type\":\"custom\",\n",
        "                    \"tokenizer\":\"korean_nori_tokenizer\",\n",
        "                    \"filter\":[\n",
        "                        \"nori_posfilter\",\n",
        "                        \"nori_readingform\",\n",
        "                        # \"synonym_filtering\",\n",
        "                        \"stop_filtering\"\n",
        "                    ]\n",
        "                }\n",
        "            },\n",
        "            \"filter\":{\n",
        "                \"nori_posfilter\":{\n",
        "                    \"type\":\"nori_part_of_speech\",\n",
        "                    \"stoptags\":[\n",
        "                        \"E\",\"IC\",\"J\",\"MAG\",\"MM\",\"NA\",\"NR\",\"SC\",\n",
        "                        \"SE\",\"SF\",\"SH\",\"SL\",\"SN\",\"SP\",\"SSC\",\"SSO\",\n",
        "                        \"SY\",\"UNA\",\"UNKNOWN\",\"VA\",\"VCN\",\"VCP\",\"VSV\",\n",
        "                        \"VV\",\"VX\",\"XPN\",\"XR\",\"XSA\",\"XSN\",\"XSV\"\n",
        "                    ]\n",
        "                },\n",
        "                # \"synonym_filtering\":{\n",
        "                #     \"type\":\"synonym\"\n",
        "                #     ,\"synonyms_path\":\"synonymsFilter.txt\"\n",
        "                # },\n",
        "                \"stop_filtering\":{\n",
        "                    \"type\":\"stop\",\n",
        "                    \"stopwords_path\":\"stopFilter.txt\"\n",
        "                }\n",
        "            }\n",
        "        }\n",
        "    },\n",
        "    \"mappings\": {\n",
        "        \"properties\": {\n",
        "            \"title\": {\n",
        "                \"type\": \"text\",\n",
        "                \"analyzer\": \"nori_analyzer\"\n",
        "            },\n",
        "            \"abstract\": {\n",
        "                \"type\": \"text\",\n",
        "                \"analyzer\": \"nori_analyzer\"\n",
        "            }\n",
        "        }\n",
        "    }\n",
        "}"
      ],
      "execution_count": 20,
      "outputs": []
    },
    {
      "cell_type": "code",
      "metadata": {
        "colab": {
          "base_uri": "https://localhost:8080/"
        },
        "id": "yU4P6r4HdtUJ",
        "outputId": "ac98b5cf-8184-4c7f-beb0-5d3bab5f1f2f"
      },
      "source": [
        "# 데이터를 색인화하기 위한 함수\n",
        "def indexing(es, index_name):\n",
        "    # 이미 존재할 경우 삭제하고 다시 만들기\n",
        "    if es.indices.exists(index=index_name):\n",
        "        es.indices.delete(index=index_name)\n",
        "\n",
        "    # 인덱스 생성\n",
        "    print(es.indices.create(index=index_name, body=index_settings))\n",
        "\n",
        "# 인덱스명을 정하기 (자유롭게)\n",
        "index_name = 'korwiki_abs_index'\n",
        "indexing(es, index_name)"
      ],
      "execution_count": 21,
      "outputs": [
        {
          "output_type": "stream",
          "text": [
            "{'acknowledged': True, 'shards_acknowledged': True, 'index': 'korwiki_abs_index'}\n"
          ],
          "name": "stdout"
        }
      ]
    },
    {
      "cell_type": "markdown",
      "metadata": {
        "id": "13I5k5kDRPPe"
      },
      "source": [
        "### **한글 위키 압축 문서로 인덱싱**\n",
        "\n",
        "> 인덱싱하는 시간을 단축하기 위해 helpers.bulk 사용"
      ]
    },
    {
      "cell_type": "code",
      "metadata": {
        "colab": {
          "base_uri": "https://localhost:8080/"
        },
        "id": "FD2awCO6d3gB",
        "outputId": "f5760727-e16b-4822-898d-be19f12f2e6d"
      },
      "source": [
        "# 인덱스 생성 \n",
        "docs = []\n",
        "\n",
        "for doc in root.iter(\"doc\"):\n",
        "    dic = {}\n",
        "    str = doc.find('title').text\n",
        "    dic['title'] = str.replace(\"위키백과:\",\"\")\n",
        "    dic['abstract'] = doc.find('abstract').text\n",
        "\n",
        "    docs.append({\n",
        "        '_index': index_name,\n",
        "        '_source': dic })\n",
        "\n",
        "# es.index(index=index_name, doc_type='string', body=dic)\n",
        "helpers.bulk(es, docs)\n",
        "\n",
        "# 인덱스 리프레쉬 \n",
        "es.indices.refresh(index=index_name)"
      ],
      "execution_count": 22,
      "outputs": [
        {
          "output_type": "execute_result",
          "data": {
            "text/plain": [
              "{'_shards': {'failed': 0, 'successful': 5, 'total': 10}}"
            ]
          },
          "metadata": {
            "tags": []
          },
          "execution_count": 22
        }
      ]
    },
    {
      "cell_type": "markdown",
      "metadata": {
        "id": "17hSJcKEAJY7"
      },
      "source": [
        "### **색인화한 검색 엔진에서 정보 검색**\n",
        "\n",
        "> es.search를 활용해서 검색해보기\n",
        "\n",
        "```\n",
        "es.search(index = '선언한 인덱스명', body = {'from': '몇 위부터 반환할 것인지' , \n",
        "'size': '최대 반환할 갯수', 'query' : {'match':{'기준 key' : '검색할 내용'}}})\n",
        "```\n",
        "\n",
        "### 결과로는 무엇이 반환되었을까...? \n",
        "\n",
        "> 딕셔너리 형태로, 필요한 정보는 딕셔너리 value에 대한 접근 방식을 통해 얻을 수 있습니다.\n",
        "\n",
        "```\n",
        "{'took': 3, 'timed_out': False, '_shards': {'total': 1, 'successful': 1, \n",
        "'skipped': 0, 'failed': 0}, 'hits': {'total': {'value': 2, 'relation': 'eq'},\n",
        "'max_score': 1.2037696, 'hits': [{'_index': 'sample_index', '_type': 'string',\n",
        "'_id': 'zYMJ9HcB0qdz_4P6yRNV', '_score': 1.2037696, '_source': \n",
        "{'songs': '젊은그대', 'lyrics': '사랑스런 젊은 그대 태양같은 젊은 그대'}}, \n",
        "{'_index': 'sample_index', '_type': 'string', '_id': 'yYMJ9HcB0qdz_4P6yBPd',\n",
        "'_score': 1.0137007, '_source': {'songs': '민족의 아리아', 'lyrics': '지축을 박차고 \n",
        "포효하라 그대'}}]}}\n",
        "```\n",
        "\n",
        "> 딕셔너리의 접근은..?\n",
        "\n",
        "```\n",
        "딕셔너리 변수명['key'] # value를 반환! \n",
        "```\n",
        "\n",
        "\n"
      ]
    },
    {
      "cell_type": "code",
      "metadata": {
        "colab": {
          "base_uri": "https://localhost:8080/"
        },
        "id": "T3r0EBhuEFgy",
        "outputId": "7eef0981-759f-41e9-ad5c-5640995bf4be"
      },
      "source": [
        "# 검색 해보기\n",
        "def search(keyword=None, size=5):\n",
        "    body = {\n",
        "        \"from\":0,\n",
        "        \"size\": size,\n",
        "        \"query\":{\n",
        "            \"multi_match\":{\n",
        "                \"query\": keyword,\n",
        "                \"fields\": ['title','abstract']\n",
        "            }\n",
        "        }\n",
        "    }\n",
        "\n",
        "    res = es.search(index=index_name, body=body)\n",
        "    return res\n",
        "\n",
        "results = search('고려대', 10)\n",
        "# results = es.search(index=index_name, body={'from':0, 'size':10, 'query':{'match':{'abstract':'위키백과'}}})\n",
        "\n",
        "# 딕셔너리 안에 딕셔너리: 'hits'라는 key 안에 value는 또 다른 사전형으로 되어있으며, 해당 사전의 key 이름은 'hits'   \n",
        "for result in results['hits']['hits']:\n",
        "    print('score:', result['_score'], 'source::', result['_source'])"
      ],
      "execution_count": 23,
      "outputs": [
        {
          "output_type": "stream",
          "text": [
            "score: 25.427958 source:: {'title': ' 고려대로', 'abstract': '고려대로(高麗大路)는 서울 성북구의 도로이다. 본래 도로명은 인촌로(仁村路)였으나 친일 논란으로 개칭되었다.'}\n",
            "score: 21.864128 source:: {'title': ' 고려대학교안암병원', 'abstract': '|주소      = 서울특별시 성북구 고려대로 73 (안암동5가)'}\n",
            "score: 21.855015 source:: {'title': ' 권문혁', 'abstract': '권문혁(1962년 7월 10일 ~ )은 대한민국의 언론인이다. 고려대'}\n",
            "score: 21.855015 source:: {'title': ' 서울안암초등학교', 'abstract': '|위치 = 서울특별시 성북구 고려대로7가길 39'}\n",
            "score: 21.71157 source:: {'title': ' 40080년', 'abstract': '《40080년》은 1995년 고려대 수학과 94학번인 이민식이 제작한 횡스크롤 슈팅 게임이다.'}\n",
            "score: 21.051743 source:: {'title': ' 용문중학교 (서울)', 'abstract': '|위치     = 서울특별시 성북구 고려대로17가길 46 (안암동2가)'}\n",
            "score: 20.942371 source:: {'title': ' 동광제약', 'abstract': '|장소 = 서울특별시 중구 퇴계로 97 고려대연각타워 12층'}\n",
            "score: 19.464134 source:: {'title': ' 고려대연각타워', 'abstract': '서울특별시 중구 충무로1가 25-5 (퇴계로 97 )'}\n",
            "score: 17.40315 source:: {'title': ' 대한법의학회', 'abstract': '대한법의학회(The Korean Society For Legal Medicine)는 1976년에 설립된 대한민국의 의학 단체이다. 소재지는 서울특별시 성북구 고려대로 73, 고려대학교 의과대학 법의학교실에 위치하고 있다.'}\n",
            "score: 16.355608 source:: {'title': ' 한국경영학회', 'abstract': '한국경영학회(韓國經營學會)는 1957년 12월에 연세대학교와 고려대학교가 주체가 되어 9명의 발기인에 의해 발족된 단체이다. 초대 회장에는 고려대학교의 김효록 교수가 취임하였다.'}\n"
          ],
          "name": "stdout"
        }
      ]
    }
  ]
}